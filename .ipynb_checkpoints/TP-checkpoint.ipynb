{
 "cells": [
  {
   "cell_type": "code",
   "execution_count": null,
   "id": "77527c98",
   "metadata": {},
   "outputs": [],
   "source": [
    "import matplotlib.pyplot as plt\n",
    "import numpy as np\n",
    "import sounddevice as sd\n",
    "import scipy.io.wavfile as wav"
   ]
  },
  {
   "cell_type": "markdown",
   "id": "694f09ce",
   "metadata": {},
   "source": [
    "### Reconociendo notas (afinando)\n",
    "\n",
    "El vector `notas` generado por el siguiente código contiene las notas musicales: `C`,`C#`,`D`,`D#`,`E`,`F`,`F#`,`G`,`G#`,`A`,`A#`,`B` (Do, Do sostenido, Re, Re sostenido, Mi, Fa, Fa sostenido, Sol, Sol sostenido, La, La sostenido, Si, respectivamente). Cada nota va acompañana de un número que indica en qué octava se encuentra la nota: La nota `A0` (La en primera octava) es igual, pero más grave que `A4` (La en cuarta octava)"
   ]
  },
  {
   "cell_type": "code",
   "execution_count": null,
   "id": "43e8f09a",
   "metadata": {},
   "outputs": [],
   "source": [
    "letras = ['C','C#','D','D#','E','F','F#','G','G#','A','A#','B']\n",
    "notas = []\n",
    "for i in range(9):\n",
    "    for l in letras:\n",
    "        notas.append(l+str(i))\n",
    "notas = np.array(notas)"
   ]
  },
  {
   "cell_type": "markdown",
   "id": "ed69871a",
   "metadata": {},
   "source": [
    "El siguiente vector contiene las frecuencias que corresponden a cada una de estas notas:"
   ]
  },
  {
   "cell_type": "code",
   "execution_count": null,
   "id": "b5a704f1",
   "metadata": {},
   "outputs": [],
   "source": [
    "frecuencias_notas = 16.3516*(2**(1/12))**np.arange(len(notas))"
   ]
  },
  {
   "cell_type": "markdown",
   "id": "8531228e",
   "metadata": {},
   "source": [
    "De este modo, si queremos encontrar qué frecuencia le corresponde a la nota `A4` podemos hacer:"
   ]
  },
  {
   "cell_type": "code",
   "execution_count": null,
   "id": "bb1d8a61",
   "metadata": {},
   "outputs": [],
   "source": [
    "indice_A4 = np.nonzero(notas=='A4')[0][0] #esto da el índice de notas donde está A4.\n",
    "print(\"Frecuencia de A4: \",frecuencias_notas[indice_A4], \"Hz\")"
   ]
  },
  {
   "cell_type": "markdown",
   "id": "b89fd4ad",
   "metadata": {},
   "source": [
    "#### Ejercicio: \n",
    "Los archivos `notas*.wav` contienen grabaciones de distintas notas musicales tocadas con diferentes instrumentos. Se quiere identificar qué nota contiene cada archivo. \n",
    "Para ello, leer el archivo y convertirlo en un array de numpy, calcularle la transformada de Fourier, graficarla y estudiar el gráfico."
   ]
  },
  {
   "cell_type": "code",
   "execution_count": null,
   "id": "8b266d62",
   "metadata": {},
   "outputs": [],
   "source": [
    "fs,nota1 = wav.read(\"nota1.wav\")"
   ]
  },
  {
   "cell_type": "code",
   "execution_count": null,
   "id": "9c405396",
   "metadata": {},
   "outputs": [],
   "source": [
    "sd.play(nota1,fs)"
   ]
  },
  {
   "cell_type": "markdown",
   "id": "6c3a2970",
   "metadata": {},
   "source": [
    "### Limpiando audio\n",
    "Los archivos `secret*.wav` contienen fragmentos de audio tapados con ruido. Queremos limpiar el ruido de modo de lograr oír el mensaje oculto. El ruido es diferente en cada archivo y por lo tanto el proceso de limpieza debe ser artesanal, haciendo algo ligeramente distinto en cada caso. \n",
    "\n",
    "Para cada archivo:\n",
    "\n",
    "1. Leer cada archivo para obtener un vector de Numpy. Ejecutarlo para escuchar la grabación. \n",
    "\n",
    "**Cuidado:** En algunos audios, el ruido es un pitido **muy** agudo. No usar auriculares o usarlos fuera del oído. \n",
    "\n",
    "2. Calcular la transformada de Fourier del vector y graficar el resultado. \n",
    "\n",
    "3. A partir del gráfico, elaborar una estrategia y limpiar las frecuencias que se supone que producen el ruido. Luego, aplicar la transformada inversa al vector de transformadas procesado y ejecutar el audio resultante. \n",
    "\n",
    "**Nota:** Es posible que luego de limpiar el ruido el audio quede a muy bajo volumen. Para subir el volumen, basta con multiplicar el vector resultante por un factor mayor que 1. Por ejemplo: al multiplicar por 2 se obtiene el mismo sonido con el doble de volumen. "
   ]
  },
  {
   "cell_type": "code",
   "execution_count": null,
   "id": "2148180b",
   "metadata": {},
   "outputs": [],
   "source": []
  }
 ],
 "metadata": {
  "kernelspec": {
   "display_name": "Python 3 (ipykernel)",
   "language": "python",
   "name": "python3"
  },
  "language_info": {
   "codemirror_mode": {
    "name": "ipython",
    "version": 3
   },
   "file_extension": ".py",
   "mimetype": "text/x-python",
   "name": "python",
   "nbconvert_exporter": "python",
   "pygments_lexer": "ipython3",
   "version": "3.12.5"
  }
 },
 "nbformat": 4,
 "nbformat_minor": 5
}
